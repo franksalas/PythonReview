{
 "cells": [
  {
   "cell_type": "markdown",
   "metadata": {},
   "source": [
    "### Milestone Project 2 - Blackjack Game\n",
    "In this milestone project you will be creating a Complete BlackJack Card Game in Python.\n",
    "\n",
    "Here are the requirements:\n",
    "\n",
    "* You need to create a simple text-based BlackJack game\n",
    "* The game needs to have one player versus an automated dealer.\n",
    "* The player can stand or hit.\n",
    "* The player must be able to pick their betting amount.\n",
    "* You need to keep track fo the players total money.\n",
    "* You need to alert the player of wins,losses, or busts, etc...\n",
    "And most importantly:\n",
    "\n",
    "    ** You must use OOP and classes in some portion of your game. You can not just use functions in your game. Use classes to help you define the Deck and the Player's hand. There are many right ways to do this, so explore it well!**\n",
    "    \n",
    "    \n",
    "Feel free to expand this game-try including multiple players. Try adding in Double-Down and card splits! \n",
    "\n"
   ]
  },
  {
   "cell_type": "markdown",
   "metadata": {},
   "source": [
    "---\n",
    "\n",
    "---\n",
    "**Start by defining some gobal object for the cards, tbles and dict.**"
   ]
  },
  {
   "cell_type": "code",
   "execution_count": 1,
   "metadata": {
    "collapsed": true
   },
   "outputs": [],
   "source": [
    "# Used for card shuffle\n",
    "import random\n",
    "\n",
    "# Boolean used to know if hand is in play\n",
    "playing = False\n",
    "\n",
    "Chip_pool = 100 # dould also makethis a raw input\n",
    "\n",
    "bet = 1\n",
    "\n",
    "restart_phrase = \"Press 'd' to deal the cards again, or press 'q' to quit\""
   ]
  },
  {
   "cell_type": "markdown",
   "metadata": {},
   "source": [
    "** Then we set up the cards **"
   ]
  },
  {
   "cell_type": "code",
   "execution_count": 3,
   "metadata": {
    "collapsed": true
   },
   "outputs": [],
   "source": [
    "# Hearts, Diamonds, Clubs, Spades\n",
    "suits = ('H', 'D', 'C', 'S')\n",
    "\n",
    "# possible card ranks\n",
    "ranking = ('A', '2', '3', '4', '5', '6', '7', '8', '9', '10', 'J', 'Q', 'K')\n",
    "\n",
    "# Point values dict (NOTE: Aces can also be 11, check self.ace for details)\n",
    "card_val = {'A':1, '2':2, '3':3, '4':4, '5':5, '6':6, '7':7, '8':8, '9':9,\n",
    "            '10':10, 'J':10, 'Q':10, 'K':10}"
   ]
  },
  {
   "cell_type": "markdown",
   "metadata": {},
   "source": [
    "** Now we make a card class. it will have some basic ID functions\n",
    "and then some funtions to grab the suit andrank of the card **"
   ]
  },
  {
   "cell_type": "code",
   "execution_count": 6,
   "metadata": {
    "collapsed": true
   },
   "outputs": [],
   "source": [
    "# Create a card class\n",
    "\n",
    "class Card:\n",
    "    \n",
    "    def __int__(self,suit,rank):\n",
    "        self.suit = suit\n",
    "        self.rank = rank\n",
    "        \n",
    "    def __str__(self):\n",
    "        return self.suit\n",
    "    \n",
    "    def grab_suit(self):\n",
    "        return self.suit\n",
    "    \n",
    "    def grab_rank(self):\n",
    "        return self.rank\n",
    "    \n",
    "    def draw(self):\n",
    "        print (self.suit + self.rank)"
   ]
  },
  {
   "cell_type": "markdown",
   "metadata": {},
   "source": [
    "** Make a hand class. **\n",
    "\n",
    "** This will have funtions to take into account the \"Ace situation\"**"
   ]
  },
  {
   "cell_type": "code",
   "execution_count": 1,
   "metadata": {
    "collapsed": true
   },
   "outputs": [],
   "source": [
    "# Create a hand class\n",
    "\n",
    "class Hand:\n",
    "    \n",
    "    def __init__(self):\n",
    "        self.cards = []\n",
    "        self.value = 0\n",
    "        # ace can be 1 or 11 and is defined here\n",
    "        self.ace = False\n",
    "        \n",
    "    def __str__(self):\n",
    "        \n",
    "        '''Return a string of current hand composition'''\n",
    "        hand_comp = \"\"\n",
    "        \n",
    "        # Better way to do this.\n",
    "        # list comprehension\n",
    "        \n",
    "        for card in self.cards:\n",
    "            card_name = card.__str__()\n",
    "            hand_comp += \" \" + card_name\n",
    "            \n",
    "        return 'The hand has &s' %hand_comp\n",
    "    \n",
    "    def card_add(self, card):\n",
    "        '''Add another card to the hand'''\n",
    "        self.cards.append(card)\n",
    "        \n",
    "        # check for Aces\n",
    "        if card.rank == 'A':\n",
    "            self.ace = True\n",
    "        self.value += card_val[card.rank]\n",
    "        \n",
    "    def calc_val(self):\n",
    "        \n",
    "        '''\n",
    "        Calculate teh value of the hand, make aces an 11 if they dont\n",
    "        bust the hand\n",
    "        '''\n",
    "        if (self.ace == True and self.value < 12):\n",
    "            return self.value + 10\n",
    "        else:\n",
    "            return self.value\n",
    "    def draw(self, hidden):\n",
    "        if hidden == True and playing == True:\n",
    "            # dont show first hidden card\n",
    "            starting_card = 1\n",
    "        else:\n",
    "            starting_card = 0\n",
    "        for x in range(starting_card, len(self.cards)):\n",
    "            self.cards[x].draw()\n",
    "            "
   ]
  },
  {
   "cell_type": "markdown",
   "metadata": {},
   "source": [
    "### Make a deck class"
   ]
  },
  {
   "cell_type": "code",
   "execution_count": 3,
   "metadata": {
    "collapsed": false
   },
   "outputs": [],
   "source": [
    "class Deck:\n",
    "    \n",
    "    def __init__(self):\n",
    "        '''Create a deck in order '''\n",
    "        self.deck = []\n",
    "        for suit in suits:\n",
    "            for rank in ranking:\n",
    "                self.dck.append(Card(suit, rank))\n",
    "    \n",
    "    def shuffle(self):\n",
    "        '''\n",
    "        Shuffle teh deck, python actually already has a\n",
    "        shuffle methid its called random lib\n",
    "        '''\n",
    "        random.shuffle(self.deck)\n",
    "        \n",
    "    def deal(self):\n",
    "        ''' \n",
    "        Grab the fist item in the deck\n",
    "        '''\n",
    "        single_card = self.deck.pop()\n",
    "        return single_card\n",
    "    \n",
    "    def __str__(self):\n",
    "        dec_comp = ''\n",
    "        for card in self.cards:\n",
    "            deck_comp += \" \" + deck_comp.__str__()\n",
    "        \n",
    "        return \"The deck has \" + deck_comp"
   ]
  },
  {
   "cell_type": "markdown",
   "metadata": {},
   "source": [
    "### Classes are done.\n",
    "Check to see if the bet amount is withing the integer."
   ]
  },
  {
   "cell_type": "code",
   "execution_count": null,
   "metadata": {
    "collapsed": true
   },
   "outputs": [],
   "source": []
  }
 ],
 "metadata": {
  "kernelspec": {
   "display_name": "Python 2",
   "language": "python",
   "name": "python2"
  },
  "language_info": {
   "codemirror_mode": {
    "name": "ipython",
    "version": 2
   },
   "file_extension": ".py",
   "mimetype": "text/x-python",
   "name": "python",
   "nbconvert_exporter": "python",
   "pygments_lexer": "ipython2",
   "version": "2.7.11"
  }
 },
 "nbformat": 4,
 "nbformat_minor": 0
}
