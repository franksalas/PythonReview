{
 "cells": [
  {
   "cell_type": "markdown",
   "metadata": {},
   "source": [
    "# Classes Instances  Type  Methods  & Atrrtibutes"
   ]
  },
  {
   "cell_type": "markdown",
   "metadata": {},
   "source": [
    "- **Class**: a blueprint for an instance\n",
    "- **Instance**: a constructed *object* of the class\n",
    "- **Type**: indicates the calss of the instance belongs to..\n",
    "- **Attribute**: any object value: object:*attribute\n",
    "- **Method**: a \"callable attribute\" defined in the class\n",
    "\n",
    "```Python\n",
    "var = 'hello, world!'\n",
    "print type(var)        # <type 'str'>\n",
    "print var.upper()      #HELLO, WORLD\n",
    "\n",
    "```"
   ]
  },
  {
   "cell_type": "markdown",
   "metadata": {},
   "source": [
    "## Instance Meethods & Attributes\n",
    "- a \"car van be seend as a class of object\n",
    "- the car class provides the blueprint for a car object\n",
    "- each instance of a car does the same things (methods)\n",
    "- But, each car instance has its own state (attributes)\n",
    "\n",
    "<img src='img/oop2-1.png'>"
   ]
  },
  {
   "cell_type": "markdown",
   "metadata": {},
   "source": [
    "**The 'Car\" methaphor: Sample code **\n",
    "\n",
    "```Python\n",
    "\n",
    "redcar = Car('red')\n",
    "bluecar = Car('blue')\n",
    "\n",
    "redcar.start()\n",
    "redcar.openleft()\n",
    "redcar.start()\n",
    "\n",
    "bluecar.start()\n",
    "\n",
    "redcar.stop()\n",
    "\n",
    "\n",
    "```\n"
   ]
  },
  {
   "cell_type": "markdown",
   "metadata": {},
   "source": [
    "### An Object's Interface\n",
    "\n",
    "- an object's *interface* is made up of its methods\n",
    "- methods are like \"buttons\" that operate the object\n",
    "- methods often change an instance;s *state* ( its data)\n",
    "- a methods often complex * implementation* is hiddent behind the interface."
   ]
  },
  {
   "cell_type": "markdown",
   "metadata": {},
   "source": [
    "## Defining a Class: Constructing an instance\n",
    "\n",
    "- Review: class\n",
    "    - Classes are \"instance factories\"\n",
    "    - Classes define an \" instance blueprint\"\n",
    "- Construct an *instance* or object of the class\n",
    "    - instances know to which calss they belong (\"type\")\n",
    "    - instances can access variables defined in teh calss\n",
    "    "
   ]
  },
  {
   "cell_type": "code",
   "execution_count": 2,
   "metadata": {
    "collapsed": true
   },
   "outputs": [],
   "source": [
    "class myClass(object):\n",
    "    pass # a bloack has no content"
   ]
  },
  {
   "cell_type": "code",
   "execution_count": 3,
   "metadata": {
    "collapsed": false
   },
   "outputs": [
    {
     "data": {
      "text/plain": [
       "<__main__.myClass at 0x103e97610>"
      ]
     },
     "execution_count": 3,
     "metadata": {},
     "output_type": "execute_result"
    }
   ],
   "source": [
    "this_obj = myClass()\n",
    "\n",
    "this_obj"
   ]
  },
  {
   "cell_type": "code",
   "execution_count": 4,
   "metadata": {
    "collapsed": false
   },
   "outputs": [
    {
     "data": {
      "text/plain": [
       "<__main__.myClass at 0x103e97850>"
      ]
     },
     "execution_count": 4,
     "metadata": {},
     "output_type": "execute_result"
    }
   ],
   "source": [
    "that_obj = myClass()\n",
    "\n",
    "that_obj"
   ]
  },
  {
   "cell_type": "markdown",
   "metadata": {},
   "source": [
    "** diffrent memory locations **\n",
    "\n",
    "\n",
    "```Python\n",
    "\n",
    "this_obj\n",
    "\n",
    "<__main__.myClass at 0x103e97610>\n",
    "\n",
    "that_obj\n",
    "\n",
    "<__main__.myClass at 0x103e97850>\n",
    "\n",
    "```\n",
    "\n"
   ]
  },
  {
   "cell_type": "code",
   "execution_count": 5,
   "metadata": {
    "collapsed": true
   },
   "outputs": [],
   "source": [
    "class myClass(object):\n",
    "    var = 10"
   ]
  },
  {
   "cell_type": "code",
   "execution_count": 6,
   "metadata": {
    "collapsed": true
   },
   "outputs": [],
   "source": [
    "this_obj = myClass()\n",
    "that_obj = myClass"
   ]
  },
  {
   "cell_type": "code",
   "execution_count": 7,
   "metadata": {
    "collapsed": false
   },
   "outputs": [
    {
     "name": "stdout",
     "output_type": "stream",
     "text": [
      "10\n",
      "10\n"
     ]
    }
   ],
   "source": [
    "print this_obj.var\n",
    "print that_obj.var"
   ]
  },
  {
   "cell_type": "markdown",
   "metadata": {},
   "source": [
    "## 6 Points to understand Classes\n",
    "- **an instance of a class knows what calss it's from**\n",
    "- **vars defined in the class are availible to the instance**\n",
    "- a method on an instance passes instance as the first argument to the method ( named self in the method)\n",
    "- instances have their own data, called * instance attributes*\n",
    "- variables defined in the class are called *class attributes*\n",
    "- when we read an attribure, Python looks for its first in teh instance, and then the class."
   ]
  },
  {
   "cell_type": "markdown",
   "metadata": {},
   "source": [
    "# Instance Methods\n",
    "\n",
    "- Instance methods are variables defined in the class\n",
    "- They are accessed through the instance: **_instance.method()_**\n",
    "- when called through the instance, the instance is automatically passed as 1st argument to the method\n",
    "- because of this automatic passing of the instance, instance methods are know as \"bound\" methids, i.e bound to the instance upon which its called."
   ]
  },
  {
   "cell_type": "code",
   "execution_count": 11,
   "metadata": {
    "collapsed": false
   },
   "outputs": [],
   "source": [
    " class frank(object):\n",
    "        greeting = 'Hello, frank'\n",
    "        \n",
    "thisfrank = frank()"
   ]
  },
  {
   "cell_type": "code",
   "execution_count": 12,
   "metadata": {
    "collapsed": false
   },
   "outputs": [
    {
     "data": {
      "text/plain": [
       "'Hello, frank'"
      ]
     },
     "execution_count": 12,
     "metadata": {},
     "output_type": "execute_result"
    }
   ],
   "source": [
    "thisfrank.greeting"
   ]
  },
  {
   "cell_type": "code",
   "execution_count": 18,
   "metadata": {
    "collapsed": false
   },
   "outputs": [],
   "source": [
    "class frank(object):\n",
    "    def callme(self):\n",
    "        print('calling \"callme\" method with instance:  ')\n",
    "\n",
    "\n",
    "thisfrank = frank()"
   ]
  },
  {
   "cell_type": "code",
   "execution_count": 20,
   "metadata": {
    "collapsed": false
   },
   "outputs": [
    {
     "name": "stdout",
     "output_type": "stream",
     "text": [
      "calling \"callme\" method with instance:  \n"
     ]
    }
   ],
   "source": [
    "thisfrank.callme()"
   ]
  },
  {
   "cell_type": "markdown",
   "metadata": {},
   "source": [
    "self argument \n",
    "\n",
    "when we call a method on an instance, the instance gets pass as the first argument automatically (default implicit behabior)"
   ]
  },
  {
   "cell_type": "code",
   "execution_count": 23,
   "metadata": {
    "collapsed": false
   },
   "outputs": [
    {
     "name": "stdout",
     "output_type": "stream",
     "text": [
      "calling \"callme\" method with instance:  \n",
      "<__main__.frank object at 0x103eb60d0>\n"
     ]
    },
    {
     "data": {
      "text/plain": [
       "<__main__.frank at 0x103eb60d0>"
      ]
     },
     "execution_count": 23,
     "metadata": {},
     "output_type": "execute_result"
    }
   ],
   "source": [
    "class frank(object):\n",
    "    def callme(self):\n",
    "        print('calling \"callme\" method with instance:  ')\n",
    "        print(self)\n",
    "\n",
    "\n",
    "thisfrank = frank()\n",
    "\n",
    "thisfrank.callme()\n",
    "thisfrank"
   ]
  },
  {
   "cell_type": "markdown",
   "metadata": {
    "collapsed": true
   },
   "source": [
    "# Instance Attributes ('STATE')\n",
    "- An instance cal also get and set values in _self_\n",
    "- because these values change according to what happens to the object, we call these values _state_\n",
    "- instance data takes theform of instance _attributes_ values, set and accessed throught **_object.attrubute_** syntax\n",
    "\n",
    "---"
   ]
  },
  {
   "cell_type": "markdown",
   "metadata": {},
   "source": [
    "### What is \"self\"?\n",
    "\n",
    "```python\n",
    "\n",
    "class MyClass(object):\n",
    "        def dothis(self):\n",
    "            print('doing this')\n",
    "            \n",
    "myinst = MyClass()\n",
    "myinst.dothis()\n",
    "\n",
    "\n",
    "$ doing this\n",
    "```\n",
    "- self is the object in witch the object was called\n",
    "- self is the instance of MyClass\n",
    "    - or more generaly we can say\n",
    "- In every case self is the instance upon witch the method was called"
   ]
  },
  {
   "cell_type": "code",
   "execution_count": 16,
   "metadata": {
    "collapsed": false
   },
   "outputs": [
    {
     "name": "stdout",
     "output_type": "stream",
     "text": [
      "61\n"
     ]
    }
   ],
   "source": [
    "import random\n",
    "class MyClass(object):\n",
    "        def dothis(self):\n",
    "           self.rand_val = random.randint(1,100)\n",
    "        \n",
    "            \n",
    "myinst = MyClass()\n",
    "myinst.dothis()\n",
    "print(myinst.rand_val)\n"
   ]
  },
  {
   "cell_type": "markdown",
   "metadata": {},
   "source": [
    "## 6 Points to understand Classes\n",
    "- an instance of a class knows what calss it's from\n",
    "- vars defined in the class are availible to the instance\n",
    "- a method on an instance passes instance as the first argument to the method ( named self in the method)\n",
    "- **instances have their own data, called * instance attributes**\n",
    "- variables defined in the class are called *class attributes\n",
    "- when we read an attribure, Python looks for its first in teh instance, and then the class."
   ]
  },
  {
   "cell_type": "markdown",
   "metadata": {},
   "source": [
    "# Encapsulation\n",
    "## OPP: three pillars\n",
    "- **encapsulation**\n",
    "- inheritance\n",
    "- polymorphism"
   ]
  },
  {
   "cell_type": "code",
   "execution_count": 21,
   "metadata": {
    "collapsed": false
   },
   "outputs": [
    {
     "name": "stdout",
     "output_type": "stream",
     "text": [
      "hello\n",
      "100\n"
     ]
    }
   ],
   "source": [
    "class MyClass(object):\n",
    "    def set_val(self, val):\n",
    "        self.value = val\n",
    "        \n",
    "    def get_val(self):\n",
    "        return self.value\n",
    "\n",
    "        \n",
    "a = MyClass()\n",
    "b = MyClass()\n",
    "\n",
    "a.set_val(10)\n",
    "b.set_val(100)\n",
    "# a.value = 'hello' it can be done here too! BAD\n",
    "\n",
    "print(a.get_val())\n",
    "print(b.get_val())"
   ]
  },
  {
   "cell_type": "markdown",
   "metadata": {},
   "source": [
    "### by using the methods we are **\"encapsulating\"** provides a gateway to ensure the integrity of the data"
   ]
  },
  {
   "cell_type": "code",
   "execution_count": 26,
   "metadata": {
    "collapsed": false
   },
   "outputs": [
    {
     "name": "stdout",
     "output_type": "stream",
     "text": [
      "9\n",
      "9\n"
     ]
    }
   ],
   "source": [
    "class MyInteger(object):\n",
    "    def set_val(self,val):\n",
    "        try:\n",
    "            val = int(val) # if not int\n",
    "        except ValueError:\n",
    "            return\n",
    "        self.val = val # ok\n",
    "        \n",
    "    def get_val(self):\n",
    "        return self.val\n",
    "    \n",
    "    def increment_val(self):\n",
    "        self.val = self.val + 1\n",
    "        \n",
    "i = MyInteger()\n",
    "i.set_val(9)\n",
    "print i.get_val()\n",
    "i.set_val('hi')\n",
    "print i.get_val()\n"
   ]
  },
  {
   "cell_type": "markdown",
   "metadata": {},
   "source": [
    "## Encapsulation\n",
    "- Encapsulation: the firt of the three pillars of OPP\n",
    "- Encapsulatio refers to the safe storage of data(as attributes) in an instance\n",
    "- Data should be accessed only through instance methods\n",
    "- Data should be validates as correct (depending on the requirements set in class methods)\n",
    "- Data should be safe from changes by externalprocesses\n",
    "### Breaking Encapsulaton\n",
    "- although normally set in a settler method, instance attrubute values can be set anywhere\n",
    "- Encapsulation in Python is a voluntary restriction\n",
    "- Python does not implement data hiding, as other languages\n"
   ]
  },
  {
   "cell_type": "markdown",
   "metadata": {},
   "source": [
    "# The __init__ Constructor"
   ]
  },
  {
   "cell_type": "code",
   "execution_count": 34,
   "metadata": {
    "collapsed": false
   },
   "outputs": [
    {
     "name": "stdout",
     "output_type": "stream",
     "text": [
      "calling __init__\n",
      "2\n"
     ]
    }
   ],
   "source": [
    "class MyNum(object):\n",
    "    def __init__(self):\n",
    "        print 'calling __init__'\n",
    "        self.val = 0\n",
    "        \n",
    "    def increment(self):\n",
    "        self.val = self.val + 1\n",
    "        \n",
    "dd = MyNum()\n",
    "dd.increment()\n",
    "dd.increment()\n",
    "\n",
    "print dd.val"
   ]
  },
  {
   "cell_type": "code",
   "execution_count": 35,
   "metadata": {
    "collapsed": false
   },
   "outputs": [
    {
     "name": "stdout",
     "output_type": "stream",
     "text": [
      "calling __init__\n",
      "7\n"
     ]
    }
   ],
   "source": [
    "class MyNum(object):\n",
    "    def __init__(self, value):\n",
    "        print 'calling __init__'\n",
    "        self.val = value\n",
    "        \n",
    "    def increment(self):\n",
    "        self.val = self.val + 1\n",
    "        \n",
    "dd = MyNum(5)\n",
    "dd.increment()\n",
    "dd.increment()\n",
    "\n",
    "print dd.val"
   ]
  },
  {
   "cell_type": "code",
   "execution_count": 37,
   "metadata": {
    "collapsed": false
   },
   "outputs": [
    {
     "name": "stdout",
     "output_type": "stream",
     "text": [
      "calling __init__\n"
     ]
    },
    {
     "ename": "TypeError",
     "evalue": "cannot concatenate 'str' and 'int' objects",
     "output_type": "error",
     "traceback": [
      "\u001b[0;31m---------------------------------------------------------------------------\u001b[0m",
      "\u001b[0;31mTypeError\u001b[0m                                 Traceback (most recent call last)",
      "\u001b[0;32m<ipython-input-37-fa42d9dae7d7>\u001b[0m in \u001b[0;36m<module>\u001b[0;34m()\u001b[0m\n\u001b[1;32m      8\u001b[0m \u001b[0;34m\u001b[0m\u001b[0m\n\u001b[1;32m      9\u001b[0m \u001b[0mdd\u001b[0m \u001b[0;34m=\u001b[0m \u001b[0mMyNum\u001b[0m\u001b[0;34m(\u001b[0m\u001b[0;34m'hello'\u001b[0m\u001b[0;34m)\u001b[0m\u001b[0;34m\u001b[0m\u001b[0m\n\u001b[0;32m---> 10\u001b[0;31m \u001b[0mdd\u001b[0m\u001b[0;34m.\u001b[0m\u001b[0mincrement\u001b[0m\u001b[0;34m(\u001b[0m\u001b[0;34m)\u001b[0m\u001b[0;34m\u001b[0m\u001b[0m\n\u001b[0m\u001b[1;32m     11\u001b[0m \u001b[0mdd\u001b[0m\u001b[0;34m.\u001b[0m\u001b[0mincrement\u001b[0m\u001b[0;34m(\u001b[0m\u001b[0;34m)\u001b[0m\u001b[0;34m\u001b[0m\u001b[0m\n\u001b[1;32m     12\u001b[0m \u001b[0;34m\u001b[0m\u001b[0m\n",
      "\u001b[0;32m<ipython-input-37-fa42d9dae7d7>\u001b[0m in \u001b[0;36mincrement\u001b[0;34m(self)\u001b[0m\n\u001b[1;32m      5\u001b[0m \u001b[0;34m\u001b[0m\u001b[0m\n\u001b[1;32m      6\u001b[0m     \u001b[0;32mdef\u001b[0m \u001b[0mincrement\u001b[0m\u001b[0;34m(\u001b[0m\u001b[0mself\u001b[0m\u001b[0;34m)\u001b[0m\u001b[0;34m:\u001b[0m\u001b[0;34m\u001b[0m\u001b[0m\n\u001b[0;32m----> 7\u001b[0;31m         \u001b[0mself\u001b[0m\u001b[0;34m.\u001b[0m\u001b[0mval\u001b[0m \u001b[0;34m=\u001b[0m \u001b[0mself\u001b[0m\u001b[0;34m.\u001b[0m\u001b[0mval\u001b[0m \u001b[0;34m+\u001b[0m \u001b[0;36m1\u001b[0m\u001b[0;34m\u001b[0m\u001b[0m\n\u001b[0m\u001b[1;32m      8\u001b[0m \u001b[0;34m\u001b[0m\u001b[0m\n\u001b[1;32m      9\u001b[0m \u001b[0mdd\u001b[0m \u001b[0;34m=\u001b[0m \u001b[0mMyNum\u001b[0m\u001b[0;34m(\u001b[0m\u001b[0;34m'hello'\u001b[0m\u001b[0;34m)\u001b[0m\u001b[0;34m\u001b[0m\u001b[0m\n",
      "\u001b[0;31mTypeError\u001b[0m: cannot concatenate 'str' and 'int' objects"
     ]
    }
   ],
   "source": [
    "class MyNum(object):\n",
    "    def __init__(self, value):\n",
    "        print 'calling __init__'\n",
    "        self.val = value\n",
    "        \n",
    "    def increment(self):\n",
    "        self.val = self.val + 1\n",
    "        \n",
    "dd = MyNum('hello')\n",
    "dd.increment()\n",
    "dd.increment()\n",
    "\n",
    "print dd.val"
   ]
  },
  {
   "cell_type": "markdown",
   "metadata": {},
   "source": [
    "**Lets add an inegrety gate to evaluate the value**"
   ]
  },
  {
   "cell_type": "code",
   "execution_count": 40,
   "metadata": {
    "collapsed": false
   },
   "outputs": [
    {
     "name": "stdout",
     "output_type": "stream",
     "text": [
      "1\n",
      "101\n"
     ]
    }
   ],
   "source": [
    "class MyNum(object):\n",
    "    def __init__(self, value):\n",
    "        try:\n",
    "            value = int(value) # not practival for floats\n",
    "        except ValueError:\n",
    "            value = 0\n",
    "        self.val = value\n",
    "        \n",
    "    def increment(self):\n",
    "        self.val = self.val + 1\n",
    "        \n",
    "aa= MyNum('hello')\n",
    "bb = MyNum(100)\n",
    "aa.increment()\n",
    "bb.increment()\n",
    "\n",
    "print aa.val\n",
    "print bb.val"
   ]
  },
  {
   "cell_type": "markdown",
   "metadata": {},
   "source": [
    "## The __init__ Constructor\n",
    "- **___init__**_ is a _keyword_ variable: it must be named init\n",
    "- its a method automatically called when a new instance is constructed\n",
    "- if it is not presetn,it is not called\n",
    "- the **self** argument is the fist apperance of the instance\n",
    "- **__init__** offers the opportunity to instane at teh time of construction\n",
    "---"
   ]
  },
  {
   "cell_type": "markdown",
   "metadata": {},
   "source": [
    "# Class attributes vs. Instance Attributes"
   ]
  },
  {
   "cell_type": "code",
   "execution_count": 43,
   "metadata": {
    "collapsed": false
   },
   "outputs": [
    {
     "name": "stdout",
     "output_type": "stream",
     "text": [
      "10\n",
      "100\n"
     ]
    }
   ],
   "source": [
    "class YourClass(object):\n",
    "    classy = 10\n",
    "    \n",
    "    def set_val(self):\n",
    "        self.insty = 100\n",
    "        \n",
    "dd = YourClass()\n",
    "\n",
    "dd.set_val()\n",
    "print(dd.classy)\n",
    "print(dd.insty)\n"
   ]
  },
  {
   "cell_type": "markdown",
   "metadata": {},
   "source": [
    "---\n",
    "- `classy` is a class variable, a variable  set in a class\n",
    "- `insty` is an attribute set in the instance"
   ]
  },
  {
   "cell_type": "code",
   "execution_count": 45,
   "metadata": {
    "collapsed": false
   },
   "outputs": [
    {
     "name": "stdout",
     "output_type": "stream",
     "text": [
      "class value!\n",
      "inst value!\n",
      "class value!\n"
     ]
    }
   ],
   "source": [
    "class YourClass(object):\n",
    "    classy = 'class value!'\n",
    "    \n",
    "dd = YourClass()\n",
    "\n",
    "print(dd.classy)\n",
    "\n",
    "dd.classy = 'inst value!'\n",
    "\n",
    "print(dd.classy)\n",
    "\n",
    "del dd.classy #delete the instance attribute\n",
    "\n",
    "print(dd.classy)# retrives classy from the class again"
   ]
  },
  {
   "cell_type": "markdown",
   "metadata": {},
   "source": [
    "## Class attributes vs. Instance attrubutes\n",
    "- Attributes / variables in the class are accessible throught the instance\n",
    "- Instance attributes are also accesible by the instance\n",
    "- When we use the syntax **object.attrubute** we're asking Python to look up the attribute\n",
    "    - First in teh instance\n",
    "    - then in the class\n",
    "- Method calls through the instace follow this lookup"
   ]
  },
  {
   "cell_type": "markdown",
   "metadata": {},
   "source": [
    "## 6 Points to understand Classes\n",
    "- an instance of a class knows what calss it's from\n",
    "- vars defined in the class are availible to the instance\n",
    "- a method on an instance passes instance as the first argument to the method ( named self in the method)\n",
    "- instances have their own data, called * instance attributes\n",
    "- **variables defined in the class are called _class attributes_**\n",
    "- **when we read an attribure, Python looks for it first in the instance, and then the class.**"
   ]
  },
  {
   "cell_type": "markdown",
   "metadata": {},
   "source": [
    "# Working With Class and Instance Data"
   ]
  },
  {
   "cell_type": "code",
   "execution_count": 49,
   "metadata": {
    "collapsed": false
   },
   "outputs": [
    {
     "name": "stdout",
     "output_type": "stream",
     "text": [
      "val of obj:  5\n",
      "count: 3\n",
      "val of obj:  13\n",
      "count: 3\n",
      "val of obj:  17\n",
      "count: 3\n"
     ]
    }
   ],
   "source": [
    "class InstanceCounter(object):\n",
    "    count = 0 # class variable & class attribute\n",
    "    \n",
    "    def __init__(self,val):\n",
    "        self.val = val\n",
    "        InstanceCounter.count += 1\n",
    "        \n",
    "    def set_val(self, newval):\n",
    "        self.val = newval\n",
    "        \n",
    "    def get_val(self):\n",
    "        return self.val\n",
    "    \n",
    "    def get_count(self):\n",
    "        return InstanceCounter.count\n",
    "    \n",
    "a = InstanceCounter(5)\n",
    "b = InstanceCounter(13)\n",
    "c = InstanceCounter(17)\n",
    "\n",
    "for obj in (a,b,c):\n",
    "    print \"val of obj:  %s\" % (obj.get_val()) # initialized value (5,13,ect)\n",
    "    print \"count: %s\" % (obj.get_count()) # always 3\n",
    "    \n",
    "    \n",
    "    \n",
    "    \n",
    "    \n",
    "    "
   ]
  },
  {
   "cell_type": "code",
   "execution_count": null,
   "metadata": {
    "collapsed": true
   },
   "outputs": [],
   "source": []
  }
 ],
 "metadata": {
  "kernelspec": {
   "display_name": "Python 2",
   "language": "python",
   "name": "python2"
  },
  "language_info": {
   "codemirror_mode": {
    "name": "ipython",
    "version": 2
   },
   "file_extension": ".py",
   "mimetype": "text/x-python",
   "name": "python",
   "nbconvert_exporter": "python",
   "pygments_lexer": "ipython2",
   "version": "2.7.11"
  }
 },
 "nbformat": 4,
 "nbformat_minor": 0
}
