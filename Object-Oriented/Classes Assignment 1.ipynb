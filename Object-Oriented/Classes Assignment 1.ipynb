{
 "cells": [
  {
   "cell_type": "markdown",
   "metadata": {},
   "source": [
    "# Assignment 1\n",
    "\n",
    "- create a class that acts alittle like a list with limits on its size\n",
    "- create two MaxSizeList objects/instances and by passing a diffrent integer to each constructor\n",
    "- needs to know what its max size is\n",
    "- we only see the last elements that were push. the initial elements get dropped when we reach max size.\n",
    "- "
   ]
  },
  {
   "cell_type": "markdown",
   "metadata": {},
   "source": [
    "**Given code**\n",
    "\n",
    "```Python\n",
    "\n",
    "class MaxSizeList(object):\n",
    "    #code here\n",
    "\n",
    "a = MaxSizeList(3)\n",
    "b = MaxSizeList(1)\n",
    "\n",
    "a.push(\"hey\")\n",
    "a.push(\"hi\")\n",
    "a.push(\"let's\")\n",
    "a.push(\"go\")\n",
    "\n",
    "b.push(\"hey\")\n",
    "b.push(\"hi\")\n",
    "b.push(\"let's\")\n",
    "b.push(\"go\")\n",
    "\n",
    "print(a.get_list())\n",
    "print(b.get_list())\n",
    "\n",
    "$ ['hi',\"let's\", 'go']\n",
    "  ['go']\n",
    "\n",
    "```"
   ]
  },
  {
   "cell_type": "code",
   "execution_count": 9,
   "metadata": {
    "collapsed": false
   },
   "outputs": [
    {
     "ename": "TypeError",
     "evalue": "'list' object is not callable",
     "output_type": "error",
     "traceback": [
      "\u001b[0;31m---------------------------------------------------------------------------\u001b[0m",
      "\u001b[0;31mTypeError\u001b[0m                                 Traceback (most recent call last)",
      "\u001b[0;32m<ipython-input-9-424aff990e4c>\u001b[0m in \u001b[0;36m<module>\u001b[0;34m()\u001b[0m\n\u001b[1;32m      8\u001b[0m \u001b[0mmyinst\u001b[0m \u001b[0;34m=\u001b[0m \u001b[0mMyClass\u001b[0m\u001b[0;34m(\u001b[0m\u001b[0;34m)\u001b[0m\u001b[0;34m\u001b[0m\u001b[0m\n\u001b[1;32m      9\u001b[0m \u001b[0;34m\u001b[0m\u001b[0m\n\u001b[0;32m---> 10\u001b[0;31m \u001b[0;32mprint\u001b[0m \u001b[0mmyinst\u001b[0m\u001b[0;34m.\u001b[0m\u001b[0mcc\u001b[0m\u001b[0;34m(\u001b[0m\u001b[0;34m'r'\u001b[0m\u001b[0;34m)\u001b[0m\u001b[0;34m\u001b[0m\u001b[0m\n\u001b[0m\u001b[1;32m     11\u001b[0m \u001b[0;34m\u001b[0m\u001b[0m\n\u001b[1;32m     12\u001b[0m \u001b[0;34m\u001b[0m\u001b[0m\n",
      "\u001b[0;31mTypeError\u001b[0m: 'list' object is not callable"
     ]
    }
   ],
   "source": [
    "\n",
    "class MyClass(object):\n",
    "    def __init__(self):\n",
    "        self.aa = 5 # integer\n",
    "        self.bb = 'hello' # string\n",
    "        self.cc = ['a', 'b', 'c', 'd'] # list\n",
    "\n",
    "myinst = MyClass()\n",
    "\n",
    "\n",
    "print myinst.cc\n",
    "\n",
    "\n"
   ]
  },
  {
   "cell_type": "code",
   "execution_count": 2,
   "metadata": {
    "collapsed": false
   },
   "outputs": [
    {
     "name": "stdout",
     "output_type": "stream",
     "text": [
      "[5, 10, 15]\n"
     ]
    }
   ],
   "source": [
    "# example II\n",
    "\n",
    "myList = []\n",
    "\n",
    "myList.append(5)\n",
    "myList.append(10)\n",
    "myList.append(15)\n",
    "\n",
    "print(myList)"
   ]
  },
  {
   "cell_type": "code",
   "execution_count": 3,
   "metadata": {
    "collapsed": false
   },
   "outputs": [
    {
     "name": "stdout",
     "output_type": "stream",
     "text": [
      "3\n"
     ]
    }
   ],
   "source": [
    "print (len(myList))"
   ]
  },
  {
   "cell_type": "code",
   "execution_count": 5,
   "metadata": {
    "collapsed": false
   },
   "outputs": [
    {
     "name": "stdout",
     "output_type": "stream",
     "text": [
      "5\n"
     ]
    }
   ],
   "source": [
    "#remove an element\n",
    "pooped = myList.pop(0)\n",
    "print pooped\n"
   ]
  },
  {
   "cell_type": "code",
   "execution_count": 6,
   "metadata": {
    "collapsed": false
   },
   "outputs": [
    {
     "data": {
      "text/plain": [
       "[10, 15]"
      ]
     },
     "execution_count": 6,
     "metadata": {},
     "output_type": "execute_result"
    }
   ],
   "source": [
    "myList"
   ]
  },
  {
   "cell_type": "code",
   "execution_count": 11,
   "metadata": {
    "collapsed": false
   },
   "outputs": [
    {
     "name": "stdout",
     "output_type": "stream",
     "text": [
      "['hi', \"let's\", 'go']\n",
      "['go']\n"
     ]
    }
   ],
   "source": [
    "class MaxSizeList(object):\n",
    "    def __init__(self, max): # using two attributes\n",
    "        self.max_size = max # one to the max size set by the argument MaxSizeList(3)\n",
    "        self.innerlist = [] # one to store the list itself\n",
    "        \n",
    "    def push(self, obj):\n",
    "        self.innerlist.append(obj) # gives us the list that we created in self.innerlist, \n",
    "                                   #.append is the method being called on that list \n",
    "        if len(self.innerlist) > self.max_size:\n",
    "            self.innerlist.pop(0) # remove the 1st element of the list\n",
    "            \n",
    "    def get_list(self):\n",
    "        return self.innerlist\n",
    "\n",
    "    \n",
    "    \n",
    "a = MaxSizeList(3)\n",
    "b = MaxSizeList(1)\n",
    "\n",
    "a.push(\"hey\")\n",
    "a.push(\"hi\")\n",
    "a.push(\"let's\")\n",
    "a.push(\"go\")\n",
    "\n",
    "b.push(\"hey\")\n",
    "b.push(\"hi\")\n",
    "b.push(\"let's\")\n",
    "b.push(\"go\")\n",
    "\n",
    "print(a.get_list())\n",
    "print(b.get_list())\n"
   ]
  },
  {
   "cell_type": "markdown",
   "metadata": {},
   "source": [
    "---\n",
    "# Evaluating code\n",
    "- Clarity first!\n",
    "- Maintainability (minimal repetition or dependencies)\n",
    "- Consistency (syntax, variable, naming)\n",
    "- Brevity\n",
    "- At higher levels, and after the above:\n",
    "    - Time efficiency\n",
    "    - Memory efficiency\n",
    "    "
   ]
  },
  {
   "cell_type": "code",
   "execution_count": null,
   "metadata": {
    "collapsed": true
   },
   "outputs": [],
   "source": []
  }
 ],
 "metadata": {
  "kernelspec": {
   "display_name": "Python 2",
   "language": "python",
   "name": "python2"
  },
  "language_info": {
   "codemirror_mode": {
    "name": "ipython",
    "version": 2
   },
   "file_extension": ".py",
   "mimetype": "text/x-python",
   "name": "python",
   "nbconvert_exporter": "python",
   "pygments_lexer": "ipython2",
   "version": "2.7.11"
  }
 },
 "nbformat": 4,
 "nbformat_minor": 0
}
